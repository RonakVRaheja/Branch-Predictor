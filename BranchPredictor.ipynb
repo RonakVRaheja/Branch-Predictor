{
 "cells": [
  {
   "cell_type": "markdown",
   "metadata": {},
   "source": [
    "**citation : referred from https://github.com/edougal/nn_bp_test**"
   ]
  },
  {
   "cell_type": "code",
   "execution_count": 3,
   "metadata": {
    "collapsed": true
   },
   "outputs": [],
   "source": [
    "import pdb\n",
    "import os\n",
    "from collections import deque"
   ]
  },
  {
   "cell_type": "code",
   "execution_count": 22,
   "metadata": {
    "collapsed": true
   },
   "outputs": [],
   "source": [
    "def sim(pred, file='gcc_branch.out.txt', **kwargs):\n",
    "    trace = {}\n",
    "    branches = []\n",
    "    with open(file, 'r') as file_in:\n",
    "        for line in file_in:\n",
    "            register = line[2:8]\n",
    "            result = int(line[9])\n",
    "            trace.setdefault(register, []).append(result)\n",
    "            branches.append([register, result])\n",
    "\n",
    "    num_correct = pred(branches, l=kwargs['l'])\n",
    "    total = sum(len(r) for r in trace.values())\n",
    "    return (num_correct * 1.0/total)"
   ]
  },
  {
   "cell_type": "code",
   "execution_count": 5,
   "metadata": {
    "collapsed": true
   },
   "outputs": [],
   "source": [
    "class Counter:\n",
    "    state = 2   # 1 and 2 predict do not take, 3 and 4 predict take\n",
    "    def predict(self):\n",
    "        if(self.state < 3):\n",
    "            return -1\n",
    "        if(self.state > 2):\n",
    "            return 1\n",
    "\n",
    "    def update(self, actual):\n",
    "        if(actual == 1):\n",
    "            self.state = self.state + 1\n",
    "            if(self.state > 4):\n",
    "                self.state = 4\n",
    "        if(actual == -1):\n",
    "            self.state = self.state - 1\n",
    "            if(self.state < 1):\n",
    "                self.state = 1\n",
    "        return"
   ]
  },
  {
   "cell_type": "code",
   "execution_count": 6,
   "metadata": {
    "collapsed": true
   },
   "outputs": [],
   "source": [
    "def saturating_counter(trace, l=1):\n",
    "\n",
    "    c_list = {}\n",
    "    num_correct = 0\n",
    "\n",
    "    for br in trace:            # iterating through each branch\n",
    "        if br[0] not in c_list:     # if no previous branch from this memory location \n",
    "            c_list[br[0]] = Counter()\n",
    "        pr = c_list[br[0]].predict()\n",
    "        actual_value = 1 if br[1] else -1\n",
    "        c_list[br[0]].update(actual_value)\n",
    "        if pr == actual_value:\n",
    "            num_correct += 1\n",
    "    return num_correct"
   ]
  },
  {
   "cell_type": "code",
   "execution_count": 8,
   "metadata": {
    "collapsed": true
   },
   "outputs": [],
   "source": [
    "class Perceptron:\n",
    "    weights = []\n",
    "    N = 0\n",
    "    bias = 0\n",
    "    threshold = 0\n",
    "\n",
    "    def __init__(self, N):\n",
    "        self.N = N\n",
    "        self.bias = 0\n",
    "        self.threshold = 2 * N + 14                 # optimal threshold depends on history length\n",
    "        self.weights = [0] * N      \n",
    "\n",
    "    def predict(self, global_branch_history):\n",
    "        running_sum = self.bias\n",
    "        for i in range(0, self.N):                  # dot product of branch history with the weights\n",
    "            running_sum += global_branch_history[i] * self.weights[i]\n",
    "        prediction = -1 if running_sum < 0 else 1\n",
    "        return (prediction, running_sum)\n",
    "\n",
    "    def update(self, prediction, actual, global_branch_history, running_sum):\n",
    "        if (prediction != actual) or (abs(running_sum) < self.threshold):   \n",
    "            self.bias = self.bias + (1 * actual)\n",
    "            for i in range(0, self.N):\n",
    "                self.weights[i] = self.weights[i] + (actual * global_branch_history[i])\n",
    "\n",
    "    def statistics(self):\n",
    "        print(\"bias is: \" + str(self.bias) + \" weights are: \" + str(self.weights))"
   ]
  },
  {
   "cell_type": "code",
   "execution_count": 9,
   "metadata": {
    "collapsed": true
   },
   "outputs": [],
   "source": [
    "def perceptron_pred(trace, l=1):\n",
    "\n",
    "    global_branch_history = deque([])\n",
    "    global_branch_history.extend([0]*l)\n",
    "\n",
    "    p_list = {}\n",
    "    num_correct = 0\n",
    "\n",
    "    for br in trace:            # iterating through each branch\n",
    "        if br[0] not in p_list:     # if no previous branch from this memory location \n",
    "            p_list[br[0]] = Perceptron(l)\n",
    "        results = p_list[br[0]].predict(global_branch_history)\n",
    "        pr = results[0]\n",
    "        running_sum = results [1]\n",
    "        actual_value = 1 if br[1] else -1\n",
    "        p_list[br[0]].update(pr, actual_value, global_branch_history, running_sum)\n",
    "        global_branch_history.appendleft(actual_value)\n",
    "        global_branch_history.pop()\n",
    "        if pr == actual_value:\n",
    "            num_correct += 1\n",
    "\n",
    "    return num_correct"
   ]
  },
  {
   "cell_type": "code",
   "execution_count": 23,
   "metadata": {},
   "outputs": [
    {
     "name": "stdout",
     "output_type": "stream",
     "text": [
      "|Predictor|         |gcc accuracy|         |mcf accuracy|\n",
      "Saturating counter     0.96754             0.89850\n",
      "perceptron (depth 8)   0.98125             0.91216\n",
      "perceptron (depth 16)  0.98454             0.91225\n",
      "perceptron (depth 32)  0.98471             0.91196\n"
     ]
    }
   ],
   "source": [
    "gcc = 'gcc_branch.out.txt'\n",
    "mcf = 'mcf_branch.out.txt'\n",
    "print(\"|Predictor|         |gcc accuracy|         |mcf accuracy|\")\n",
    "\n",
    "nn_gcc = sim(saturating_counter, file=gcc, l=16)\n",
    "nn_mcf = sim(saturating_counter, file=mcf, l=16)\n",
    "print(\"Saturating counter     %.5f             %.5f\" % (nn_gcc, nn_mcf))\n",
    "\n",
    "\n",
    "nn_gcc = sim(perceptron_pred, file=gcc, l=8)\n",
    "nn_mcf = sim(perceptron_pred, file=mcf, l=8)\n",
    "print(\"perceptron (depth 8)   %.5f             %.5f\" % (nn_gcc, nn_mcf))\n",
    "\n",
    "nn_gcc = sim(perceptron_pred, file=gcc, l=16)\n",
    "nn_mcf = sim(perceptron_pred, file=mcf, l=16)\n",
    "print(\"perceptron (depth 16)  %.5f             %.5f\" % (nn_gcc, nn_mcf))\n",
    "\n",
    "nn_gcc = sim(perceptron_pred, file=gcc, l=32)\n",
    "nn_mcf = sim(perceptron_pred, file=mcf, l=32)\n",
    "print(\"perceptron (depth 32)  %.5f             %.5f\" % (nn_gcc, nn_mcf))"
   ]
  },
  {
   "cell_type": "code",
   "execution_count": null,
   "metadata": {
    "collapsed": true
   },
   "outputs": [],
   "source": []
  }
 ],
 "metadata": {
  "kernelspec": {
   "display_name": "Python 3",
   "language": "python",
   "name": "python3"
  },
  "language_info": {
   "codemirror_mode": {
    "name": "ipython",
    "version": 3
   },
   "file_extension": ".py",
   "mimetype": "text/x-python",
   "name": "python",
   "nbconvert_exporter": "python",
   "pygments_lexer": "ipython3",
   "version": "3.6.3"
  }
 },
 "nbformat": 4,
 "nbformat_minor": 2
}
